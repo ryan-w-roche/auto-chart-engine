{
 "cells": [
  {
   "cell_type": "code",
   "execution_count": 19,
   "metadata": {},
   "outputs": [],
   "source": [
    "from basic_pitch.inference import predict_and_save\n",
    "from basic_pitch import ICASSP_2022_MODEL_PATH\n",
    "from pathlib import Path"
   ]
  },
  {
   "cell_type": "code",
   "execution_count": 20,
   "metadata": {},
   "outputs": [
    {
     "name": "stdout",
     "output_type": "stream",
     "text": [
      "Help on function predict_and_save in module basic_pitch.inference:\n",
      "\n",
      "predict_and_save(audio_path_list: Sequence[Union[pathlib.Path, str]], output_directory: Union[pathlib.Path, str], save_midi: bool, sonify_midi: bool, save_model_outputs: bool, save_notes: bool, model_or_model_path: Union[basic_pitch.inference.Model, str, pathlib.Path], onset_threshold: float = 0.5, frame_threshold: float = 0.3, minimum_note_length: float = 127.7, minimum_frequency: Union[float, NoneType] = None, maximum_frequency: Union[float, NoneType] = None, multiple_pitch_bends: bool = False, melodia_trick: bool = True, debug_file: Union[pathlib.Path, NoneType] = None, sonification_samplerate: int = 44100, midi_tempo: float = 120) -> None\n",
      "    Make a prediction and save the results to file.\n",
      "    \n",
      "    Args:\n",
      "        audio_path_list: List of file paths for the audio to run inference on.\n",
      "        output_directory: Directory to output MIDI and all other outputs derived from the model to.\n",
      "        save_midi: True to save midi.\n",
      "        sonify_midi: Whether or not to render audio from the MIDI and output it to a file.\n",
      "        save_model_outputs: True to save contours, onsets and notes from the model prediction.\n",
      "        save_notes: True to save note events.\n",
      "        model_or_model_path: A loaded Model or path to a serialized model to load.\n",
      "        onset_threshold: Minimum energy required for an onset to be considered present.\n",
      "        frame_threshold: Minimum energy requirement for a frame to be considered present.\n",
      "        minimum_note_length: The minimum allowed note length in milliseconds.\n",
      "        minimum_freq: Minimum allowed output frequency, in Hz. If None, all frequencies are used.\n",
      "        maximum_freq: Maximum allowed output frequency, in Hz. If None, all frequencies are used.\n",
      "        multiple_pitch_bends: If True, allow overlapping notes in midi file to have pitch bends.\n",
      "        melodia_trick: Use the melodia post-processing step.\n",
      "        debug_file: An optional path to output debug data to. Useful for testing/verification.\n",
      "        sonification_samplerate: Sample rate for rendering audio from MIDI.\n",
      "\n"
     ]
    }
   ],
   "source": [
    "help(predict_and_save)"
   ]
  },
  {
   "cell_type": "code",
   "execution_count": 21,
   "metadata": {},
   "outputs": [],
   "source": [
    "input_files = Path('../songs/raw_songs/01 For Those About To Rock (We Salute You).wma')\n",
    "output_dir = Path('../songs/midi_songs/')"
   ]
  },
  {
   "cell_type": "code",
   "execution_count": 22,
   "metadata": {},
   "outputs": [
    {
     "name": "stdout",
     "output_type": "stream",
     "text": [
      "\n",
      "Predicting MIDI for ..\\songs\\raw_songs\\01 For Those About To Rock (We Salute You).wma...\n"
     ]
    },
    {
     "name": "stderr",
     "output_type": "stream",
     "text": [
      "c:\\Users\\marve\\.conda\\envs\\ace-env\\lib\\site-packages\\basic_pitch\\inference.py:229: UserWarning: PySoundFile failed. Trying audioread instead.\n",
      "  audio_original, _ = librosa.load(str(audio_path), sr=AUDIO_SAMPLE_RATE, mono=True)\n",
      "c:\\Users\\marve\\.conda\\envs\\ace-env\\lib\\site-packages\\librosa\\core\\audio.py:184: FutureWarning: librosa.core.audio.__audioread_load\n",
      "\tDeprecated as of librosa version 0.10.0.\n",
      "\tIt will be removed in librosa version 1.0.\n",
      "  y, sr_native = __audioread_load(path, offset, duration, dtype)\n"
     ]
    },
    {
     "name": "stdout",
     "output_type": "stream",
     "text": [
      "\n",
      "\n",
      "  Creating midi...\n",
      "  💅 Saved to ..\\songs\\midi_songs\\01 For Those About To Rock (We Salute You)_basic_pitch.mid\n"
     ]
    }
   ],
   "source": [
    "predict_and_save(\n",
    "    audio_path_list=[input_files],\n",
    "    output_directory=output_dir,\n",
    "    save_midi=True,\n",
    "    sonify_midi=False,\n",
    "    save_model_outputs=False,\n",
    "    save_notes=False,\n",
    "    model_or_model_path=ICASSP_2022_MODEL_PATH,\n",
    "    minimum_frequency=3,  # Lower minimum frequency to catch more drum hits\n",
    "    onset_threshold=0.3,  # Increased to reduce false positives\n",
    "    frame_threshold=0.2,  # Increased to reduce sustained false positives\n",
    "    minimum_note_length=0.2,  # Increased to avoid very short false hits\n",
    "    multiple_pitch_bends=False,  # Disable pitch bends for percussion\n",
    "    melodia_trick=False  # Disable melodia trick as it's not useful for drums\n",
    ")"
   ]
  }
 ],
 "metadata": {
  "kernelspec": {
   "display_name": "ace-env",
   "language": "python",
   "name": "python3"
  },
  "language_info": {
   "codemirror_mode": {
    "name": "ipython",
    "version": 3
   },
   "file_extension": ".py",
   "mimetype": "text/x-python",
   "name": "python",
   "nbconvert_exporter": "python",
   "pygments_lexer": "ipython3",
   "version": "3.8.20"
  }
 },
 "nbformat": 4,
 "nbformat_minor": 2
}
