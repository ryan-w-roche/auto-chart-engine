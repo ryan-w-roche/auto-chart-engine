{
 "cells": [
  {
   "cell_type": "code",
   "execution_count": 1,
   "metadata": {},
   "outputs": [],
   "source": [
    "from mido import MidiFile, MidiTrack, MetaMessage"
   ]
  },
  {
   "cell_type": "code",
   "execution_count": 55,
   "metadata": {},
   "outputs": [],
   "source": [
    "input_file = '../songs/midi_songs/for those about to rock.mid'\n",
    "output_file = '../songs/midi_songs/test-split.mid'\n",
    "in_mid = MidiFile(input_file)\n",
    "out_mid = MidiFile(ticks_per_beat=in_mid.ticks_per_beat)"
   ]
  },
  {
   "cell_type": "code",
   "execution_count": 56,
   "metadata": {},
   "outputs": [],
   "source": [
    "drum_track = MidiTrack()\n",
    "out_mid.tracks.append(drum_track)\n",
    "\n",
    "# Collect all messages with their absolute times\n",
    "all_messages = []\n",
    "current_time = 0\n",
    "\n",
    "# Iterate over tracks in the original MIDI file\n",
    "for track in in_mid.tracks:\n",
    "    current_time = 0\n",
    "    for msg in track:\n",
    "        current_time += msg.time\n",
    "        if (isinstance(msg, MetaMessage) and msg.type in ('set_tempo', 'time_signature')) or \\\n",
    "           (msg.type in ('note_on', 'note_off') and msg.channel == 9) or \\\n",
    "           (msg.type not in ('note_on', 'note_off')):\n",
    "            all_messages.append((current_time, msg))\n",
    "\n",
    "# Sort messages by absolute time\n",
    "all_messages.sort(key=lambda x: x[0])\n",
    "\n",
    "# Convert back to delta times\n",
    "last_time = 0\n",
    "for i, (abs_time, msg) in enumerate(all_messages):\n",
    "    delta = abs_time - last_time\n",
    "    new_msg = msg.copy(time=delta)\n",
    "    drum_track.append(new_msg)\n",
    "    last_time = abs_time\n",
    "\n",
    "# Save the new MIDI file with only drum notes\n",
    "out_mid.save(output_file)"
   ]
  }
 ],
 "metadata": {
  "kernelspec": {
   "display_name": "chart-env",
   "language": "python",
   "name": "python3"
  },
  "language_info": {
   "codemirror_mode": {
    "name": "ipython",
    "version": 3
   },
   "file_extension": ".py",
   "mimetype": "text/x-python",
   "name": "python",
   "nbconvert_exporter": "python",
   "pygments_lexer": "ipython3",
   "version": "3.8.20"
  }
 },
 "nbformat": 4,
 "nbformat_minor": 2
}
