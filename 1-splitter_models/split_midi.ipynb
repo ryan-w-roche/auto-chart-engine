{
 "cells": [
  {
   "cell_type": "code",
   "execution_count": 4,
   "metadata": {},
   "outputs": [],
   "source": [
    "# Imports and Setup\n",
    "from mido import MidiFile, MidiTrack, MetaMessage"
   ]
  },
  {
   "cell_type": "code",
   "execution_count": 5,
   "metadata": {},
   "outputs": [],
   "source": [
    "# Define the input and output directories\n",
    "input_file = '../songs/midi_songs/for those about to rock.mid'\n",
    "output_file = '../songs/midi_songs/test-split.mid'\n",
    "\n",
    "# Initialize MIDI files\n",
    "in_mid = MidiFile(input_file)\n",
    "out_mid = MidiFile(ticks_per_beat=in_mid.ticks_per_beat)"
   ]
  },
  {
   "cell_type": "code",
   "execution_count": 6,
   "metadata": {},
   "outputs": [],
   "source": [
    "# Create drum track\n",
    "drum_track = MidiTrack()\n",
    "out_mid.tracks.append(drum_track)\n",
    "\n",
    "# Collect messages with absolute times\n",
    "all_messages = []\n",
    "current_time = 0\n",
    "\n",
    "# Process each track\n",
    "for track in in_mid.tracks:\n",
    "    current_time = 0\n",
    "    for msg in track:\n",
    "        current_time += msg.time\n",
    "        # Check if the note is in the drum channel and append it to the new midi if it is\n",
    "        if (isinstance(msg, MetaMessage) and msg.type in ('set_tempo', 'time_signature')) or \\\n",
    "            (msg.type in ('note_on', 'note_off') and msg.channel == 9) or \\\n",
    "            (msg.type not in ('note_on', 'note_off')):\n",
    "            all_messages.append((current_time, msg))\n",
    "\n",
    "# Sort and convert to delta times\n",
    "all_messages.sort(key=lambda x: x[0])\n",
    "last_time = 0\n",
    "\n",
    "for abs_time, msg in all_messages:\n",
    "    delta = abs_time - last_time\n",
    "    new_msg = msg.copy(time=delta)\n",
    "    drum_track.append(new_msg)\n",
    "    last_time = abs_time\n",
    "\n",
    "# Save and return\n",
    "out_mid.save(output_file)"
   ]
  }
 ],
 "metadata": {
  "kernelspec": {
   "display_name": "ace-env",
   "language": "python",
   "name": "python3"
  },
  "language_info": {
   "codemirror_mode": {
    "name": "ipython",
    "version": 3
   },
   "file_extension": ".py",
   "mimetype": "text/x-python",
   "name": "python",
   "nbconvert_exporter": "python",
   "pygments_lexer": "ipython3",
   "version": "3.8.20"
  }
 },
 "nbformat": 4,
 "nbformat_minor": 2
}
