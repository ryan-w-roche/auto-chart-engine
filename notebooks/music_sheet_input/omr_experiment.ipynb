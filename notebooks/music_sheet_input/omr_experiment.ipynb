{
 "cells": [
  {
   "cell_type": "code",
   "execution_count": 2,
   "metadata": {},
   "outputs": [],
   "source": [
    "from pdf2image import convert_from_path\n",
    "\n",
    "import cv2\n",
    "import numpy as np\n",
    "import os\n"
   ]
  },
  {
   "cell_type": "code",
   "execution_count": 3,
   "metadata": {},
   "outputs": [
    {
     "data": {
      "text/plain": [
       "True"
      ]
     },
     "execution_count": 3,
     "metadata": {},
     "output_type": "execute_result"
    }
   ],
   "source": [
    "os.path.exists('../../songs/drum_sheet_music/the spirit of radio.pdf')"
   ]
  },
  {
   "cell_type": "code",
   "execution_count": 4,
   "metadata": {},
   "outputs": [],
   "source": [
    "# Step 1: Load the image and convert to grayscale\n",
    "image = convert_from_path(\n",
    "\t'../../songs/drum_sheet_music/the spirit of radio.pdf',\n",
    "\tdpi=300,\n",
    "\toutput_folder=\"C:/Users/marve/ryanroche/Capstone/auto-chart-engine/songs/drum_sheet_music\")[0]\n",
    "image = cv2.cvtColor(np.array(image), cv2.COLOR_RGB2BGR)\n",
    "\n",
    "# Check if the image was loaded successfully\n",
    "if image is None:\n",
    "\traise FileNotFoundError(\"The image file could not be loaded. Please check the file path.\")\n",
    "\n",
    "gray = cv2.cvtColor(image, cv2.COLOR_BGR2GRAY)"
   ]
  },
  {
   "cell_type": "code",
   "execution_count": null,
   "metadata": {},
   "outputs": [],
   "source": [
    "# Step 2: Convert to a binary image using Otsu's thresholding\n",
    "_, binary = cv2.threshold(gray, 0, 255, cv2.THRESH_BINARY_INV + cv2.THRESH_OTSU)\n",
    "# Note: Using THRESH_BINARY_INV so that the symbols are white on a black background"
   ]
  },
  {
   "cell_type": "code",
   "execution_count": null,
   "metadata": {},
   "outputs": [],
   "source": [
    "# Step 3: Remove staff lines using morphological operations\n",
    "# Create a horizontal kernel (the length may need adjustment based on the sheet music)\n",
    "horizontal_kernel = cv2.getStructuringElement(cv2.MORPH_RECT, (40, 1))\n",
    "# Apply erosion followed by dilation (opening) to remove the horizontal lines\n",
    "removed_lines = cv2.morphologyEx(binary, cv2.MORPH_OPEN, horizontal_kernel, iterations=1)\n",
    "\n",
    "# Optionally subtract the detected staff lines from the binary image\n",
    "cleaned = cv2.subtract(binary, removed_lines)"
   ]
  },
  {
   "cell_type": "code",
   "execution_count": 14,
   "metadata": {},
   "outputs": [],
   "source": [
    "# Step 4: Display intermediate results for debugging\n",
    "cv2.namedWindow(\"Cleaned (Symbols Only)\", cv2.WINDOW_NORMAL)\n",
    "cv2.resizeWindow(\"Cleaned (Symbols Only)\", 1200, 800)\n",
    "\n",
    "# cv2.imshow('Original Grayscale', gray)\n",
    "# cv2.imshow('Binary Image', binary)\n",
    "# cv2.imshow('Removed Staff Lines', removed_lines)\n",
    "cv2.imshow('Cleaned (Symbols Only)', cleaned)\n",
    "cv2.waitKey(0)\n",
    "cv2.destroyAllWindows()"
   ]
  },
  {
   "cell_type": "code",
   "execution_count": null,
   "metadata": {},
   "outputs": [],
   "source": [
    "# Step 5: Template matching example (for detecting a notehead)\n",
    "# Load a template image of a notehead (make sure it is preprocessed similarly)\n",
    "template = cv2.imread('notehead_template.jpg', 0)\n",
    "w, h = template.shape[::-1]\n",
    "\n",
    "# Perform template matching on the cleaned image\n",
    "result = cv2.matchTemplate(cleaned, template, cv2.TM_CCOEFF_NORMED)\n",
    "# Set a threshold for detection; adjust value as needed (for example, 0.7)\n",
    "threshold = 0.7\n",
    "locations = np.where(result >= threshold)\n",
    "\n",
    "# Draw rectangles around detected noteheads\n",
    "for pt in zip(*locations[::-1]):\n",
    "    cv2.rectangle(image, pt, (pt[0] + w, pt[1] + h), (0, 0, 255), 2)\n",
    "\n",
    "cv2.imshow('Detected Noteheads', image)\n",
    "cv2.waitKey(0)\n",
    "cv2.destroyAllWindows()"
   ]
  }
 ],
 "metadata": {
  "kernelspec": {
   "display_name": "ace-env",
   "language": "python",
   "name": "python3"
  },
  "language_info": {
   "codemirror_mode": {
    "name": "ipython",
    "version": 3
   },
   "file_extension": ".py",
   "mimetype": "text/x-python",
   "name": "python",
   "nbconvert_exporter": "python",
   "pygments_lexer": "ipython3",
   "version": "3.8.20"
  }
 },
 "nbformat": 4,
 "nbformat_minor": 2
}
